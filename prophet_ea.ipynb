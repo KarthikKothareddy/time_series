{
 "cells": [
  {
   "cell_type": "code",
   "execution_count": 4,
   "metadata": {
    "ExecuteTime": {
     "end_time": "2020-02-27T01:32:06.053191Z",
     "start_time": "2020-02-27T01:32:06.047499Z"
    }
   },
   "outputs": [],
   "source": [
    "import pandas as pd\n",
    "from fbprophet import Prophet\n",
    "import matplotlib.pyplot as plt\n",
    "%matplotlib inline"
   ]
  },
  {
   "cell_type": "code",
   "execution_count": 5,
   "metadata": {
    "ExecuteTime": {
     "end_time": "2020-02-27T01:36:36.052162Z",
     "start_time": "2020-02-27T01:36:36.044633Z"
    }
   },
   "outputs": [],
   "source": [
    "df = pd.read_csv(\"data/miles_travelled.csv\")"
   ]
  },
  {
   "cell_type": "code",
   "execution_count": 6,
   "metadata": {
    "ExecuteTime": {
     "end_time": "2020-02-27T01:36:44.058713Z",
     "start_time": "2020-02-27T01:36:44.049673Z"
    }
   },
   "outputs": [
    {
     "name": "stdout",
     "output_type": "stream",
     "text": [
      "<class 'pandas.core.frame.DataFrame'>\n",
      "RangeIndex: 599 entries, 0 to 598\n",
      "Data columns (total 2 columns):\n",
      " #   Column            Non-Null Count  Dtype  \n",
      "---  ------            --------------  -----  \n",
      " 0   DATE              599 non-null    object \n",
      " 1   TRFVOLUSM227NFWA  599 non-null    float64\n",
      "dtypes: float64(1), object(1)\n",
      "memory usage: 9.5+ KB\n"
     ]
    }
   ],
   "source": [
    "df.info()"
   ]
  },
  {
   "cell_type": "code",
   "execution_count": 7,
   "metadata": {
    "ExecuteTime": {
     "end_time": "2020-02-27T01:37:30.597862Z",
     "start_time": "2020-02-27T01:37:30.592460Z"
    }
   },
   "outputs": [],
   "source": [
    "df.columns = [\"ds\", \"y\"]\n",
    "df[\"ds\"] = pd.to_datetime(df[\"ds\"])"
   ]
  },
  {
   "cell_type": "code",
   "execution_count": 8,
   "metadata": {
    "ExecuteTime": {
     "end_time": "2020-02-27T01:37:36.255305Z",
     "start_time": "2020-02-27T01:37:36.223806Z"
    }
   },
   "outputs": [
    {
     "data": {
      "text/html": [
       "<div>\n",
       "<style scoped>\n",
       "    .dataframe tbody tr th:only-of-type {\n",
       "        vertical-align: middle;\n",
       "    }\n",
       "\n",
       "    .dataframe tbody tr th {\n",
       "        vertical-align: top;\n",
       "    }\n",
       "\n",
       "    .dataframe thead th {\n",
       "        text-align: right;\n",
       "    }\n",
       "</style>\n",
       "<table border=\"1\" class=\"dataframe\">\n",
       "  <thead>\n",
       "    <tr style=\"text-align: right;\">\n",
       "      <th></th>\n",
       "      <th>ds</th>\n",
       "      <th>y</th>\n",
       "    </tr>\n",
       "  </thead>\n",
       "  <tbody>\n",
       "    <tr>\n",
       "      <th>0</th>\n",
       "      <td>1970-01-01</td>\n",
       "      <td>80173.0</td>\n",
       "    </tr>\n",
       "    <tr>\n",
       "      <th>1</th>\n",
       "      <td>1970-02-01</td>\n",
       "      <td>77442.0</td>\n",
       "    </tr>\n",
       "    <tr>\n",
       "      <th>2</th>\n",
       "      <td>1970-03-01</td>\n",
       "      <td>90223.0</td>\n",
       "    </tr>\n",
       "    <tr>\n",
       "      <th>3</th>\n",
       "      <td>1970-04-01</td>\n",
       "      <td>89956.0</td>\n",
       "    </tr>\n",
       "    <tr>\n",
       "      <th>4</th>\n",
       "      <td>1970-05-01</td>\n",
       "      <td>97972.0</td>\n",
       "    </tr>\n",
       "  </tbody>\n",
       "</table>\n",
       "</div>"
      ],
      "text/plain": [
       "          ds        y\n",
       "0 1970-01-01  80173.0\n",
       "1 1970-02-01  77442.0\n",
       "2 1970-03-01  90223.0\n",
       "3 1970-04-01  89956.0\n",
       "4 1970-05-01  97972.0"
      ]
     },
     "execution_count": 8,
     "metadata": {},
     "output_type": "execute_result"
    }
   ],
   "source": [
    "df.head()"
   ]
  },
  {
   "cell_type": "code",
   "execution_count": 9,
   "metadata": {
    "ExecuteTime": {
     "end_time": "2020-02-27T01:38:18.956780Z",
     "start_time": "2020-02-27T01:38:18.635053Z"
    }
   },
   "outputs": [
    {
     "data": {
      "text/plain": [
       "<matplotlib.axes._subplots.AxesSubplot at 0x10f8f86d8>"
      ]
     },
     "execution_count": 9,
     "metadata": {},
     "output_type": "execute_result"
    },
    {
     "data": {
      "image/png": "[encoded data removed]",
      "text/plain": [
       "<Figure size 432x288 with 1 Axes>"
      ]
     },
     "metadata": {
      "needs_background": "light"
     },
     "output_type": "display_data"
    }
   ],
   "source": [
    "df.plot(x=\"ds\", y=\"y\")"
   ]
  },
  {
   "cell_type": "code",
   "execution_count": 10,
   "metadata": {
    "ExecuteTime": {
     "end_time": "2020-02-27T01:38:35.096677Z",
     "start_time": "2020-02-27T01:38:35.092708Z"
    }
   },
   "outputs": [
    {
     "data": {
      "text/plain": [
       "599"
      ]
     },
     "execution_count": 10,
     "metadata": {},
     "output_type": "execute_result"
    }
   ],
   "source": [
    "len(df)"
   ]
  },
  {
   "cell_type": "code",
   "execution_count": 21,
   "metadata": {
    "ExecuteTime": {
     "end_time": "2020-02-27T01:45:45.551348Z",
     "start_time": "2020-02-27T01:45:45.538431Z"
    }
   },
   "outputs": [
    {
     "data": {
      "text/html": [
       "<div>\n",
       "<style scoped>\n",
       "    .dataframe tbody tr th:only-of-type {\n",
       "        vertical-align: middle;\n",
       "    }\n",
       "\n",
       "    .dataframe tbody tr th {\n",
       "        vertical-align: top;\n",
       "    }\n",
       "\n",
       "    .dataframe thead th {\n",
       "        text-align: right;\n",
       "    }\n",
       "</style>\n",
       "<table border=\"1\" class=\"dataframe\">\n",
       "  <thead>\n",
       "    <tr style=\"text-align: right;\">\n",
       "      <th></th>\n",
       "      <th>ds</th>\n",
       "      <th>y</th>\n",
       "    </tr>\n",
       "  </thead>\n",
       "  <tbody>\n",
       "    <tr>\n",
       "      <th>587</th>\n",
       "      <td>2018-12-01</td>\n",
       "      <td>270370.0</td>\n",
       "    </tr>\n",
       "    <tr>\n",
       "      <th>588</th>\n",
       "      <td>2019-01-01</td>\n",
       "      <td>248395.0</td>\n",
       "    </tr>\n",
       "    <tr>\n",
       "      <th>589</th>\n",
       "      <td>2019-02-01</td>\n",
       "      <td>226799.0</td>\n",
       "    </tr>\n",
       "    <tr>\n",
       "      <th>590</th>\n",
       "      <td>2019-03-01</td>\n",
       "      <td>271668.0</td>\n",
       "    </tr>\n",
       "    <tr>\n",
       "      <th>591</th>\n",
       "      <td>2019-04-01</td>\n",
       "      <td>281646.0</td>\n",
       "    </tr>\n",
       "    <tr>\n",
       "      <th>592</th>\n",
       "      <td>2019-05-01</td>\n",
       "      <td>286269.0</td>\n",
       "    </tr>\n",
       "    <tr>\n",
       "      <th>593</th>\n",
       "      <td>2019-06-01</td>\n",
       "      <td>281345.0</td>\n",
       "    </tr>\n",
       "    <tr>\n",
       "      <th>594</th>\n",
       "      <td>2019-07-01</td>\n",
       "      <td>295744.0</td>\n",
       "    </tr>\n",
       "    <tr>\n",
       "      <th>595</th>\n",
       "      <td>2019-08-01</td>\n",
       "      <td>286857.0</td>\n",
       "    </tr>\n",
       "    <tr>\n",
       "      <th>596</th>\n",
       "      <td>2019-09-01</td>\n",
       "      <td>271986.0</td>\n",
       "    </tr>\n",
       "    <tr>\n",
       "      <th>597</th>\n",
       "      <td>2019-10-01</td>\n",
       "      <td>284203.0</td>\n",
       "    </tr>\n",
       "    <tr>\n",
       "      <th>598</th>\n",
       "      <td>2019-11-01</td>\n",
       "      <td>260333.0</td>\n",
       "    </tr>\n",
       "  </tbody>\n",
       "</table>\n",
       "</div>"
      ],
      "text/plain": [
       "            ds         y\n",
       "587 2018-12-01  270370.0\n",
       "588 2019-01-01  248395.0\n",
       "589 2019-02-01  226799.0\n",
       "590 2019-03-01  271668.0\n",
       "591 2019-04-01  281646.0\n",
       "592 2019-05-01  286269.0\n",
       "593 2019-06-01  281345.0\n",
       "594 2019-07-01  295744.0\n",
       "595 2019-08-01  286857.0\n",
       "596 2019-09-01  271986.0\n",
       "597 2019-10-01  284203.0\n",
       "598 2019-11-01  260333.0"
      ]
     },
     "execution_count": 21,
     "metadata": {},
     "output_type": "execute_result"
    }
   ],
   "source": [
    "train = df.iloc[:587]\n",
    "test = df.iloc[587:]\n",
    "test"
   ]
  },
  {
   "cell_type": "code",
   "execution_count": 16,
   "metadata": {
    "ExecuteTime": {
     "end_time": "2020-02-27T01:41:32.224900Z",
     "start_time": "2020-02-27T01:41:28.506182Z"
    }
   },
   "outputs": [
    {
     "name": "stderr",
     "output_type": "stream",
     "text": [
      "/Users/cn180450/anaconda3/envs/py36/lib/python3.6/importlib/_bootstrap.py:219: RuntimeWarning: numpy.ufunc size changed, may indicate binary incompatibility. Expected 192 from C header, got 216 from PyObject\n",
      "  return f(*args, **kwds)\n",
      "/Users/cn180450/anaconda3/envs/py36/lib/python3.6/importlib/_bootstrap.py:219: RuntimeWarning: numpy.ufunc size changed, may indicate binary incompatibility. Expected 192 from C header, got 216 from PyObject\n",
      "  return f(*args, **kwds)\n",
      "/Users/cn180450/anaconda3/envs/py36/lib/python3.6/importlib/_bootstrap.py:219: RuntimeWarning: numpy.ufunc size changed, may indicate binary incompatibility. Expected 192 from C header, got 216 from PyObject\n",
      "  return f(*args, **kwds)\n",
      "INFO:fbprophet:Disabling weekly seasonality. Run prophet with weekly_seasonality=True to override this.\n",
      "INFO:fbprophet:Disabling daily seasonality. Run prophet with daily_seasonality=True to override this.\n",
      "/Users/cn180450/anaconda3/envs/py36/lib/python3.6/site-packages/pystan/misc.py:399: FutureWarning: Conversion of the second argument of issubdtype from `float` to `np.floating` is deprecated. In future, it will be treated as `np.float64 == np.dtype(float).type`.\n",
      "  elif np.issubdtype(np.asarray(v).dtype, float):\n"
     ]
    }
   ],
   "source": [
    "m = Prophet()\n",
    "m.fit(train)\n",
    "future = m.make_future_dataframe(periods=12, freq=\"MS\")\n",
    "forecast = m.predict(future)"
   ]
  },
  {
   "cell_type": "code",
   "execution_count": 18,
   "metadata": {
    "ExecuteTime": {
     "end_time": "2020-02-27T01:41:44.543098Z",
     "start_time": "2020-02-27T01:41:44.504887Z"
    }
   },
   "outputs": [
    {
     "data": {
      "text/html": [
       "<div>\n",
       "<style scoped>\n",
       "    .dataframe tbody tr th:only-of-type {\n",
       "        vertical-align: middle;\n",
       "    }\n",
       "\n",
       "    .dataframe tbody tr th {\n",
       "        vertical-align: top;\n",
       "    }\n",
       "\n",
       "    .dataframe thead th {\n",
       "        text-align: right;\n",
       "    }\n",
       "</style>\n",
       "<table border=\"1\" class=\"dataframe\">\n",
       "  <thead>\n",
       "    <tr style=\"text-align: right;\">\n",
       "      <th></th>\n",
       "      <th>ds</th>\n",
       "      <th>trend</th>\n",
       "      <th>yhat_lower</th>\n",
       "      <th>yhat_upper</th>\n",
       "      <th>trend_lower</th>\n",
       "      <th>trend_upper</th>\n",
       "      <th>additive_terms</th>\n",
       "      <th>additive_terms_lower</th>\n",
       "      <th>additive_terms_upper</th>\n",
       "      <th>yearly</th>\n",
       "      <th>yearly_lower</th>\n",
       "      <th>yearly_upper</th>\n",
       "      <th>multiplicative_terms</th>\n",
       "      <th>multiplicative_terms_lower</th>\n",
       "      <th>multiplicative_terms_upper</th>\n",
       "      <th>yhat</th>\n",
       "    </tr>\n",
       "  </thead>\n",
       "  <tbody>\n",
       "    <tr>\n",
       "      <th>594</th>\n",
       "      <td>2019-07-01</td>\n",
       "      <td>268892.344450</td>\n",
       "      <td>279544.667058</td>\n",
       "      <td>291065.934497</td>\n",
       "      <td>268839.844152</td>\n",
       "      <td>268955.088457</td>\n",
       "      <td>16331.440951</td>\n",
       "      <td>16331.440951</td>\n",
       "      <td>16331.440951</td>\n",
       "      <td>16331.440951</td>\n",
       "      <td>16331.440951</td>\n",
       "      <td>16331.440951</td>\n",
       "      <td>0.0</td>\n",
       "      <td>0.0</td>\n",
       "      <td>0.0</td>\n",
       "      <td>285223.785400</td>\n",
       "    </tr>\n",
       "    <tr>\n",
       "      <th>595</th>\n",
       "      <td>2019-08-01</td>\n",
       "      <td>269089.922652</td>\n",
       "      <td>280315.037460</td>\n",
       "      <td>290954.608100</td>\n",
       "      <td>269007.960500</td>\n",
       "      <td>269193.869345</td>\n",
       "      <td>16542.195572</td>\n",
       "      <td>16542.195572</td>\n",
       "      <td>16542.195572</td>\n",
       "      <td>16542.195572</td>\n",
       "      <td>16542.195572</td>\n",
       "      <td>16542.195572</td>\n",
       "      <td>0.0</td>\n",
       "      <td>0.0</td>\n",
       "      <td>0.0</td>\n",
       "      <td>285632.118223</td>\n",
       "    </tr>\n",
       "    <tr>\n",
       "      <th>596</th>\n",
       "      <td>2019-09-01</td>\n",
       "      <td>269287.500853</td>\n",
       "      <td>262046.365962</td>\n",
       "      <td>273269.789688</td>\n",
       "      <td>269157.907834</td>\n",
       "      <td>269417.597848</td>\n",
       "      <td>-1601.834455</td>\n",
       "      <td>-1601.834455</td>\n",
       "      <td>-1601.834455</td>\n",
       "      <td>-1601.834455</td>\n",
       "      <td>-1601.834455</td>\n",
       "      <td>-1601.834455</td>\n",
       "      <td>0.0</td>\n",
       "      <td>0.0</td>\n",
       "      <td>0.0</td>\n",
       "      <td>267685.666399</td>\n",
       "    </tr>\n",
       "    <tr>\n",
       "      <th>597</th>\n",
       "      <td>2019-10-01</td>\n",
       "      <td>269478.705565</td>\n",
       "      <td>268962.371126</td>\n",
       "      <td>280224.923944</td>\n",
       "      <td>269302.926096</td>\n",
       "      <td>269654.127043</td>\n",
       "      <td>5291.307365</td>\n",
       "      <td>5291.307365</td>\n",
       "      <td>5291.307365</td>\n",
       "      <td>5291.307365</td>\n",
       "      <td>5291.307365</td>\n",
       "      <td>5291.307365</td>\n",
       "      <td>0.0</td>\n",
       "      <td>0.0</td>\n",
       "      <td>0.0</td>\n",
       "      <td>274770.012930</td>\n",
       "    </tr>\n",
       "    <tr>\n",
       "      <th>598</th>\n",
       "      <td>2019-11-01</td>\n",
       "      <td>269676.283767</td>\n",
       "      <td>256329.854386</td>\n",
       "      <td>266935.766581</td>\n",
       "      <td>269457.362105</td>\n",
       "      <td>269902.792515</td>\n",
       "      <td>-8347.402724</td>\n",
       "      <td>-8347.402724</td>\n",
       "      <td>-8347.402724</td>\n",
       "      <td>-8347.402724</td>\n",
       "      <td>-8347.402724</td>\n",
       "      <td>-8347.402724</td>\n",
       "      <td>0.0</td>\n",
       "      <td>0.0</td>\n",
       "      <td>0.0</td>\n",
       "      <td>261328.881043</td>\n",
       "    </tr>\n",
       "  </tbody>\n",
       "</table>\n",
       "</div>"
      ],
      "text/plain": [
       "            ds          trend  ...  multiplicative_terms_upper           yhat\n",
       "594 2019-07-01  268892.344450  ...                         0.0  285223.785400\n",
       "595 2019-08-01  269089.922652  ...                         0.0  285632.118223\n",
       "596 2019-09-01  269287.500853  ...                         0.0  267685.666399\n",
       "597 2019-10-01  269478.705565  ...                         0.0  274770.012930\n",
       "598 2019-11-01  269676.283767  ...                         0.0  261328.881043\n",
       "\n",
       "[5 rows x 16 columns]"
      ]
     },
     "execution_count": 18,
     "metadata": {},
     "output_type": "execute_result"
    }
   ],
   "source": [
    "forecast.tail()"
   ]
  },
  {
   "cell_type": "code",
   "execution_count": 23,
   "metadata": {
    "ExecuteTime": {
     "end_time": "2020-02-27T01:46:15.287432Z",
     "start_time": "2020-02-27T01:46:15.053794Z"
    }
   },
   "outputs": [
    {
     "data": {
      "text/plain": [
       "<matplotlib.axes._subplots.AxesSubplot at 0x12370eb00>"
      ]
     },
     "execution_count": 23,
     "metadata": {},
     "output_type": "execute_result"
    },
    {
     "data": {
      "image/png": "[encoded data removed]",
      "text/plain": [
       "<Figure size 864x576 with 1 Axes>"
      ]
     },
     "metadata": {
      "needs_background": "light"
     },
     "output_type": "display_data"
    }
   ],
   "source": [
    "ax = forecast.plot(\n",
    "    x=\"ds\", y=\"yhat\", label=\"Predictions\", \n",
    "    legend=True, figsize=(12, 8)\n",
    ")\n",
    "test.plot(\n",
    "    x=\"ds\", y=\"y\", label=\"True Test Data\",\n",
    "    legend=True, ax=ax, xlim=(\"2019-01-01\", \"2020-01-01\")\n",
    ")"
   ]
  },
  {
   "cell_type": "code",
   "execution_count": 24,
   "metadata": {
    "ExecuteTime": {
     "end_time": "2020-02-27T01:46:47.849655Z",
     "start_time": "2020-02-27T01:46:47.846629Z"
    }
   },
   "outputs": [],
   "source": [
    "from statsmodels.tools.eval_measures import rmse"
   ]
  },
  {
   "cell_type": "code",
   "execution_count": 25,
   "metadata": {
    "ExecuteTime": {
     "end_time": "2020-02-27T01:47:34.355814Z",
     "start_time": "2020-02-27T01:47:34.352764Z"
    }
   },
   "outputs": [],
   "source": [
    "predictions = forecast.iloc[-12:][\"yhat\"]"
   ]
  },
  {
   "cell_type": "code",
   "execution_count": 26,
   "metadata": {
    "ExecuteTime": {
     "end_time": "2020-02-27T01:47:37.385110Z",
     "start_time": "2020-02-27T01:47:37.380619Z"
    }
   },
   "outputs": [
    {
     "data": {
      "text/plain": [
       "587    260536.267519\n",
       "588    249369.560796\n",
       "589    240913.405938\n",
       "590    267754.360948\n",
       "591    268178.424569\n",
       "592    277902.259860\n",
       "593    278690.509397\n",
       "594    285223.785400\n",
       "595    285632.118223\n",
       "596    267685.666399\n",
       "597    274770.012930\n",
       "598    261328.881043\n",
       "Name: yhat, dtype: float64"
      ]
     },
     "execution_count": 26,
     "metadata": {},
     "output_type": "execute_result"
    }
   ],
   "source": [
    "predictions"
   ]
  },
  {
   "cell_type": "code",
   "execution_count": 27,
   "metadata": {
    "ExecuteTime": {
     "end_time": "2020-02-27T01:47:46.530545Z",
     "start_time": "2020-02-27T01:47:46.525872Z"
    }
   },
   "outputs": [
    {
     "data": {
      "text/plain": [
       "587    270370.0\n",
       "588    248395.0\n",
       "589    226799.0\n",
       "590    271668.0\n",
       "591    281646.0\n",
       "592    286269.0\n",
       "593    281345.0\n",
       "594    295744.0\n",
       "595    286857.0\n",
       "596    271986.0\n",
       "597    284203.0\n",
       "598    260333.0\n",
       "Name: y, dtype: float64"
      ]
     },
     "execution_count": 27,
     "metadata": {},
     "output_type": "execute_result"
    }
   ],
   "source": [
    "test[\"y\"]"
   ]
  },
  {
   "cell_type": "code",
   "execution_count": 28,
   "metadata": {
    "ExecuteTime": {
     "end_time": "2020-02-27T01:48:06.788545Z",
     "start_time": "2020-02-27T01:48:06.784734Z"
    }
   },
   "outputs": [
    {
     "data": {
      "text/plain": [
       "8120.1933554717025"
      ]
     },
     "execution_count": 28,
     "metadata": {},
     "output_type": "execute_result"
    }
   ],
   "source": [
    "rmse(predictions, test[\"y\"])"
   ]
  },
  {
   "cell_type": "code",
   "execution_count": 29,
   "metadata": {
    "ExecuteTime": {
     "end_time": "2020-02-27T01:48:16.495127Z",
     "start_time": "2020-02-27T01:48:16.486489Z"
    }
   },
   "outputs": [
    {
     "data": {
      "text/plain": [
       "y    272134.583333\n",
       "dtype: float64"
      ]
     },
     "execution_count": 29,
     "metadata": {},
     "output_type": "execute_result"
    }
   ],
   "source": [
    "test.mean()"
   ]
  },
  {
   "cell_type": "code",
   "execution_count": 30,
   "metadata": {
    "ExecuteTime": {
     "end_time": "2020-02-27T01:50:14.563560Z",
     "start_time": "2020-02-27T01:50:14.560738Z"
    }
   },
   "outputs": [],
   "source": [
    "from fbprophet.diagnostics import cross_validation, performance_metrics\n",
    "from fbprophet.plot import plot_cross_validation_metric"
   ]
  },
  {
   "cell_type": "code",
   "execution_count": 35,
   "metadata": {
    "ExecuteTime": {
     "end_time": "2020-02-27T02:12:55.861150Z",
     "start_time": "2020-02-27T02:12:55.858017Z"
    }
   },
   "outputs": [],
   "source": [
    "# initial \n",
    "initial = 5 * 365\n",
    "initial = str(initial) + \" days\"\n",
    "\n",
    "# period\n",
    "period = 5 * 365\n",
    "period = str(period) + \" days\"\n",
    "\n",
    "# horizon\n",
    "horizon = 365\n",
    "horizon = str(horizon) + \" days\"\n"
   ]
  },
  {
   "cell_type": "code",
   "execution_count": 36,
   "metadata": {
    "ExecuteTime": {
     "end_time": "2020-02-27T02:13:54.401272Z",
     "start_time": "2020-02-27T02:13:38.762917Z"
    }
   },
   "outputs": [
    {
     "name": "stderr",
     "output_type": "stream",
     "text": [
      "INFO:fbprophet:Making 9 forecasts with cutoffs between 1977-11-11 00:00:00 and 2017-11-01 00:00:00\n",
      "/Users/cn180450/anaconda3/envs/py36/lib/python3.6/site-packages/pystan/misc.py:399: FutureWarning: Conversion of the second argument of issubdtype from `float` to `np.floating` is deprecated. In future, it will be treated as `np.float64 == np.dtype(float).type`.\n",
      "  elif np.issubdtype(np.asarray(v).dtype, float):\n"
     ]
    }
   ],
   "source": [
    "df_cv = cross_validation(\n",
    "    m, initial=initial, \n",
    "    period=period, horizon=horizon\n",
    ")"
   ]
  },
  {
   "cell_type": "code",
   "execution_count": 37,
   "metadata": {
    "ExecuteTime": {
     "end_time": "2020-02-27T02:14:06.679057Z",
     "start_time": "2020-02-27T02:14:06.658699Z"
    }
   },
   "outputs": [
    {
     "data": {
      "text/html": [
       "<div>\n",
       "<style scoped>\n",
       "    .dataframe tbody tr th:only-of-type {\n",
       "        vertical-align: middle;\n",
       "    }\n",
       "\n",
       "    .dataframe tbody tr th {\n",
       "        vertical-align: top;\n",
       "    }\n",
       "\n",
       "    .dataframe thead th {\n",
       "        text-align: right;\n",
       "    }\n",
       "</style>\n",
       "<table border=\"1\" class=\"dataframe\">\n",
       "  <thead>\n",
       "    <tr style=\"text-align: right;\">\n",
       "      <th></th>\n",
       "      <th>ds</th>\n",
       "      <th>yhat</th>\n",
       "      <th>yhat_lower</th>\n",
       "      <th>yhat_upper</th>\n",
       "      <th>y</th>\n",
       "      <th>cutoff</th>\n",
       "    </tr>\n",
       "  </thead>\n",
       "  <tbody>\n",
       "    <tr>\n",
       "      <th>0</th>\n",
       "      <td>1977-12-01</td>\n",
       "      <td>118495.512494</td>\n",
       "      <td>116905.622190</td>\n",
       "      <td>120046.497489</td>\n",
       "      <td>116257.0</td>\n",
       "      <td>1977-11-11</td>\n",
       "    </tr>\n",
       "    <tr>\n",
       "      <th>1</th>\n",
       "      <td>1978-01-01</td>\n",
       "      <td>112792.688054</td>\n",
       "      <td>111231.865397</td>\n",
       "      <td>114396.600897</td>\n",
       "      <td>109838.0</td>\n",
       "      <td>1977-11-11</td>\n",
       "    </tr>\n",
       "    <tr>\n",
       "      <th>2</th>\n",
       "      <td>1978-02-01</td>\n",
       "      <td>108733.108003</td>\n",
       "      <td>107108.712296</td>\n",
       "      <td>110330.381029</td>\n",
       "      <td>107018.0</td>\n",
       "      <td>1977-11-11</td>\n",
       "    </tr>\n",
       "    <tr>\n",
       "      <th>3</th>\n",
       "      <td>1978-03-01</td>\n",
       "      <td>123183.752669</td>\n",
       "      <td>121481.390795</td>\n",
       "      <td>124799.361347</td>\n",
       "      <td>125035.0</td>\n",
       "      <td>1977-11-11</td>\n",
       "    </tr>\n",
       "    <tr>\n",
       "      <th>4</th>\n",
       "      <td>1978-04-01</td>\n",
       "      <td>125599.592267</td>\n",
       "      <td>123967.926949</td>\n",
       "      <td>127162.539256</td>\n",
       "      <td>122741.0</td>\n",
       "      <td>1977-11-11</td>\n",
       "    </tr>\n",
       "  </tbody>\n",
       "</table>\n",
       "</div>"
      ],
      "text/plain": [
       "          ds           yhat  ...         y     cutoff\n",
       "0 1977-12-01  118495.512494  ...  116257.0 1977-11-11\n",
       "1 1978-01-01  112792.688054  ...  109838.0 1977-11-11\n",
       "2 1978-02-01  108733.108003  ...  107018.0 1977-11-11\n",
       "3 1978-03-01  123183.752669  ...  125035.0 1977-11-11\n",
       "4 1978-04-01  125599.592267  ...  122741.0 1977-11-11\n",
       "\n",
       "[5 rows x 6 columns]"
      ]
     },
     "execution_count": 37,
     "metadata": {},
     "output_type": "execute_result"
    }
   ],
   "source": [
    "df_cv.head()"
   ]
  },
  {
   "cell_type": "code",
   "execution_count": 38,
   "metadata": {
    "ExecuteTime": {
     "end_time": "2020-02-27T02:14:37.848416Z",
     "start_time": "2020-02-27T02:14:37.844598Z"
    }
   },
   "outputs": [
    {
     "data": {
      "text/plain": [
       "108"
      ]
     },
     "execution_count": 38,
     "metadata": {},
     "output_type": "execute_result"
    }
   ],
   "source": [
    "len(df_cv)"
   ]
  },
  {
   "cell_type": "code",
   "execution_count": 39,
   "metadata": {
    "ExecuteTime": {
     "end_time": "2020-02-27T02:14:48.352866Z",
     "start_time": "2020-02-27T02:14:48.149771Z"
    }
   },
   "outputs": [
    {
     "data": {
      "text/html": [
       "<div>\n",
       "<style scoped>\n",
       "    .dataframe tbody tr th:only-of-type {\n",
       "        vertical-align: middle;\n",
       "    }\n",
       "\n",
       "    .dataframe tbody tr th {\n",
       "        vertical-align: top;\n",
       "    }\n",
       "\n",
       "    .dataframe thead th {\n",
       "        text-align: right;\n",
       "    }\n",
       "</style>\n",
       "<table border=\"1\" class=\"dataframe\">\n",
       "  <thead>\n",
       "    <tr style=\"text-align: right;\">\n",
       "      <th></th>\n",
       "      <th>horizon</th>\n",
       "      <th>mse</th>\n",
       "      <th>rmse</th>\n",
       "      <th>mae</th>\n",
       "      <th>mape</th>\n",
       "      <th>mdape</th>\n",
       "      <th>coverage</th>\n",
       "    </tr>\n",
       "  </thead>\n",
       "  <tbody>\n",
       "    <tr>\n",
       "      <th>0</th>\n",
       "      <td>51 days</td>\n",
       "      <td>3.069528e+07</td>\n",
       "      <td>5540.332297</td>\n",
       "      <td>3489.594166</td>\n",
       "      <td>0.016994</td>\n",
       "      <td>0.010901</td>\n",
       "      <td>0.6</td>\n",
       "    </tr>\n",
       "    <tr>\n",
       "      <th>1</th>\n",
       "      <td>52 days</td>\n",
       "      <td>3.047838e+07</td>\n",
       "      <td>5520.723118</td>\n",
       "      <td>3434.323936</td>\n",
       "      <td>0.016480</td>\n",
       "      <td>0.010901</td>\n",
       "      <td>0.7</td>\n",
       "    </tr>\n",
       "    <tr>\n",
       "      <th>2</th>\n",
       "      <td>53 days</td>\n",
       "      <td>3.046126e+07</td>\n",
       "      <td>5519.172302</td>\n",
       "      <td>3410.891679</td>\n",
       "      <td>0.016267</td>\n",
       "      <td>0.010901</td>\n",
       "      <td>0.7</td>\n",
       "    </tr>\n",
       "    <tr>\n",
       "      <th>3</th>\n",
       "      <td>55 days</td>\n",
       "      <td>3.157061e+07</td>\n",
       "      <td>5618.773343</td>\n",
       "      <td>3701.012397</td>\n",
       "      <td>0.017929</td>\n",
       "      <td>0.012877</td>\n",
       "      <td>0.7</td>\n",
       "    </tr>\n",
       "    <tr>\n",
       "      <th>4</th>\n",
       "      <td>56 days</td>\n",
       "      <td>3.172541e+07</td>\n",
       "      <td>5632.531039</td>\n",
       "      <td>3735.007010</td>\n",
       "      <td>0.018008</td>\n",
       "      <td>0.013271</td>\n",
       "      <td>0.7</td>\n",
       "    </tr>\n",
       "    <tr>\n",
       "      <th>...</th>\n",
       "      <td>...</td>\n",
       "      <td>...</td>\n",
       "      <td>...</td>\n",
       "      <td>...</td>\n",
       "      <td>...</td>\n",
       "      <td>...</td>\n",
       "      <td>...</td>\n",
       "    </tr>\n",
       "    <tr>\n",
       "      <th>94</th>\n",
       "      <td>360 days</td>\n",
       "      <td>3.912009e+07</td>\n",
       "      <td>6254.605845</td>\n",
       "      <td>5009.468784</td>\n",
       "      <td>0.022131</td>\n",
       "      <td>0.023356</td>\n",
       "      <td>0.3</td>\n",
       "    </tr>\n",
       "    <tr>\n",
       "      <th>95</th>\n",
       "      <td>361 days</td>\n",
       "      <td>3.821904e+07</td>\n",
       "      <td>6182.154572</td>\n",
       "      <td>4922.594553</td>\n",
       "      <td>0.021705</td>\n",
       "      <td>0.021225</td>\n",
       "      <td>0.3</td>\n",
       "    </tr>\n",
       "    <tr>\n",
       "      <th>96</th>\n",
       "      <td>363 days</td>\n",
       "      <td>6.665422e+07</td>\n",
       "      <td>8164.203843</td>\n",
       "      <td>6228.695985</td>\n",
       "      <td>0.027356</td>\n",
       "      <td>0.024119</td>\n",
       "      <td>0.3</td>\n",
       "    </tr>\n",
       "    <tr>\n",
       "      <th>97</th>\n",
       "      <td>364 days</td>\n",
       "      <td>5.699393e+07</td>\n",
       "      <td>7549.432693</td>\n",
       "      <td>5265.305099</td>\n",
       "      <td>0.023595</td>\n",
       "      <td>0.021225</td>\n",
       "      <td>0.4</td>\n",
       "    </tr>\n",
       "    <tr>\n",
       "      <th>98</th>\n",
       "      <td>365 days</td>\n",
       "      <td>5.667723e+07</td>\n",
       "      <td>7528.428281</td>\n",
       "      <td>5236.933235</td>\n",
       "      <td>0.023472</td>\n",
       "      <td>0.020608</td>\n",
       "      <td>0.5</td>\n",
       "    </tr>\n",
       "  </tbody>\n",
       "</table>\n",
       "<p>99 rows × 7 columns</p>\n",
       "</div>"
      ],
      "text/plain": [
       "    horizon           mse         rmse  ...      mape     mdape  coverage\n",
       "0   51 days  3.069528e+07  5540.332297  ...  0.016994  0.010901       0.6\n",
       "1   52 days  3.047838e+07  5520.723118  ...  0.016480  0.010901       0.7\n",
       "2   53 days  3.046126e+07  5519.172302  ...  0.016267  0.010901       0.7\n",
       "3   55 days  3.157061e+07  5618.773343  ...  0.017929  0.012877       0.7\n",
       "4   56 days  3.172541e+07  5632.531039  ...  0.018008  0.013271       0.7\n",
       "..      ...           ...          ...  ...       ...       ...       ...\n",
       "94 360 days  3.912009e+07  6254.605845  ...  0.022131  0.023356       0.3\n",
       "95 361 days  3.821904e+07  6182.154572  ...  0.021705  0.021225       0.3\n",
       "96 363 days  6.665422e+07  8164.203843  ...  0.027356  0.024119       0.3\n",
       "97 364 days  5.699393e+07  7549.432693  ...  0.023595  0.021225       0.4\n",
       "98 365 days  5.667723e+07  7528.428281  ...  0.023472  0.020608       0.5\n",
       "\n",
       "[99 rows x 7 columns]"
      ]
     },
     "execution_count": 39,
     "metadata": {},
     "output_type": "execute_result"
    }
   ],
   "source": [
    "performance_metrics(df_cv)"
   ]
  },
  {
   "cell_type": "code",
   "execution_count": 46,
   "metadata": {
    "ExecuteTime": {
     "end_time": "2020-02-27T02:17:50.260523Z",
     "start_time": "2020-02-27T02:17:50.076663Z"
    }
   },
   "outputs": [
    {
     "data": {
      "image/png": "[encoded data removed]",
      "text/plain": [
       "<Figure size 720x432 with 1 Axes>"
      ]
     },
     "metadata": {},
     "output_type": "display_data"
    }
   ],
   "source": [
    "plot_cross_validation_metric(df_cv, metric=\"rmse\");"
   ]
  },
  {
   "cell_type": "markdown",
   "metadata": {},
   "source": [
    "### Prophet Trend"
   ]
  },
  {
   "cell_type": "code",
   "execution_count": 47,
   "metadata": {
    "ExecuteTime": {
     "end_time": "2020-02-27T13:31:36.776415Z",
     "start_time": "2020-02-27T13:31:36.764921Z"
    }
   },
   "outputs": [],
   "source": [
    "import pandas as pd\n",
    "from fbprophet import Prophet\n"
   ]
  },
  {
   "cell_type": "code",
   "execution_count": 48,
   "metadata": {
    "ExecuteTime": {
     "end_time": "2020-02-27T13:31:58.473848Z",
     "start_time": "2020-02-27T13:31:58.439320Z"
    }
   },
   "outputs": [],
   "source": [
    "df = pd.read_csv(\"data/HospitalityEmployees.csv\")"
   ]
  },
  {
   "cell_type": "code",
   "execution_count": 49,
   "metadata": {
    "ExecuteTime": {
     "end_time": "2020-02-27T13:32:22.451805Z",
     "start_time": "2020-02-27T13:32:22.407976Z"
    }
   },
   "outputs": [],
   "source": [
    "df.columns = [\"ds\", \"y\"]\n",
    "df[\"ds\"] = pd.to_datetime(df[\"ds\"])"
   ]
  },
  {
   "cell_type": "code",
   "execution_count": 51,
   "metadata": {
    "ExecuteTime": {
     "end_time": "2020-02-27T13:34:45.368958Z",
     "start_time": "2020-02-27T13:34:45.127819Z"
    }
   },
   "outputs": [
    {
     "data": {
      "image/png": "[encoded data removed]",
      "text/plain": [
       "<Figure size 864x720 with 1 Axes>"
      ]
     },
     "metadata": {
      "needs_background": "light"
     },
     "output_type": "display_data"
    }
   ],
   "source": [
    "df.plot(x=\"ds\", y=\"y\", figsize=(12, 10));"
   ]
  },
  {
   "cell_type": "code",
   "execution_count": 52,
   "metadata": {
    "ExecuteTime": {
     "end_time": "2020-02-27T13:35:57.793860Z",
     "start_time": "2020-02-27T13:35:57.258877Z"
    }
   },
   "outputs": [
    {
     "name": "stderr",
     "output_type": "stream",
     "text": [
      "INFO:fbprophet:Disabling weekly seasonality. Run prophet with weekly_seasonality=True to override this.\n",
      "INFO:fbprophet:Disabling daily seasonality. Run prophet with daily_seasonality=True to override this.\n",
      "/Users/cn180450/anaconda3/envs/py36/lib/python3.6/site-packages/pystan/misc.py:399: FutureWarning: Conversion of the second argument of issubdtype from `float` to `np.floating` is deprecated. In future, it will be treated as `np.float64 == np.dtype(float).type`.\n",
      "  elif np.issubdtype(np.asarray(v).dtype, float):\n"
     ]
    },
    {
     "data": {
      "text/plain": [
       "<fbprophet.forecaster.Prophet at 0x1a2b259390>"
      ]
     },
     "execution_count": 52,
     "metadata": {},
     "output_type": "execute_result"
    }
   ],
   "source": [
    "m = Prophet()\n",
    "m.fit(df)"
   ]
  },
  {
   "cell_type": "code",
   "execution_count": 53,
   "metadata": {
    "ExecuteTime": {
     "end_time": "2020-02-27T13:36:32.802848Z",
     "start_time": "2020-02-27T13:36:31.274617Z"
    }
   },
   "outputs": [],
   "source": [
    "future = m.make_future_dataframe(periods=12, freq=\"MS\")\n",
    "forecast = m.predict(future)"
   ]
  },
  {
   "cell_type": "code",
   "execution_count": 54,
   "metadata": {
    "ExecuteTime": {
     "end_time": "2020-02-27T13:36:47.372714Z",
     "start_time": "2020-02-27T13:36:47.369995Z"
    }
   },
   "outputs": [],
   "source": [
    "from fbprophet.plot import add_changepoints_to_plot"
   ]
  },
  {
   "cell_type": "code",
   "execution_count": 56,
   "metadata": {
    "ExecuteTime": {
     "end_time": "2020-02-27T13:37:30.049465Z",
     "start_time": "2020-02-27T13:37:29.778099Z"
    }
   },
   "outputs": [
    {
     "data": {
      "image/png": "[encoded data removed]",
      "text/plain": [
       "<Figure size 720x432 with 1 Axes>"
      ]
     },
     "metadata": {},
     "output_type": "display_data"
    }
   ],
   "source": [
    "fig = m.plot(forecast)\n",
    "a = add_changepoints_to_plot(fig.gca(), m, forecast)"
   ]
  },
  {
   "cell_type": "code",
   "execution_count": null,
   "metadata": {},
   "outputs": [],
   "source": []
  },
  {
   "cell_type": "code",
   "execution_count": null,
   "metadata": {},
   "outputs": [],
   "source": []
  },
  {
   "cell_type": "code",
   "execution_count": null,
   "metadata": {},
   "outputs": [],
   "source": []
  },
  {
   "cell_type": "code",
   "execution_count": null,
   "metadata": {},
   "outputs": [],
   "source": []
  }
 ],
 "metadata": {
  "kernelspec": {
   "display_name": "Python [conda env:py36] *",
   "language": "python",
   "name": "conda-env-py36-py"
  },
  "language_info": {
   "codemirror_mode": {
    "name": "ipython",
    "version": 3
   },
   "file_extension": ".py",
   "mimetype": "text/x-python",
   "name": "python",
   "nbconvert_exporter": "python",
   "pygments_lexer": "ipython3",
   "version": "3.6.8"
  },
  "latex_envs": {
   "LaTeX_envs_menu_present": true,
   "autoclose": false,
   "autocomplete": true,
   "bibliofile": "biblio.bib",
   "cite_by": "apalike",
   "current_citInitial": 1,
   "eqLabelWithNumbers": true,
   "eqNumInitial": 1,
   "hotkeys": {
    "equation": "Ctrl-E",
    "itemize": "Ctrl-I"
   },
   "labels_anchors": false,
   "latex_user_defs": false,
   "report_style_numbering": false,
   "user_envs_cfg": false
  }
 },
 "nbformat": 4,
 "nbformat_minor": 2
}
